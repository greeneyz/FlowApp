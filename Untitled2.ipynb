{
 "cells": [
  {
   "cell_type": "code",
   "execution_count": 69,
   "metadata": {},
   "outputs": [],
   "source": [
    "import numpy as np\n",
    "import pandas as pd\n",
    "import seaborn as sns\n",
    "import matplotlib as plt\n",
    "import json\n",
    "%matplotlib inline\n"
   ]
  },
  {
   "cell_type": "code",
   "execution_count": 70,
   "metadata": {},
   "outputs": [],
   "source": [
    "from pandas.io.json import json_normalize #package for flattening json in pandas df\n"
   ]
  },
  {
   "cell_type": "code",
   "execution_count": 76,
   "metadata": {},
   "outputs": [
    {
     "data": {
      "text/plain": [
       "'2.1.2'"
      ]
     },
     "execution_count": 76,
     "metadata": {},
     "output_type": "execute_result"
    }
   ],
   "source": [
    "plt.__version__"
   ]
  },
  {
   "cell_type": "markdown",
   "metadata": {},
   "source": [
    "## Test Case: 11-A"
   ]
  },
  {
   "cell_type": "code",
   "execution_count": 77,
   "metadata": {},
   "outputs": [
    {
     "data": {
      "text/html": [
       "<div>\n",
       "<style scoped>\n",
       "    .dataframe tbody tr th:only-of-type {\n",
       "        vertical-align: middle;\n",
       "    }\n",
       "\n",
       "    .dataframe tbody tr th {\n",
       "        vertical-align: top;\n",
       "    }\n",
       "\n",
       "    .dataframe thead th {\n",
       "        text-align: right;\n",
       "    }\n",
       "</style>\n",
       "<table border=\"1\" class=\"dataframe\">\n",
       "  <thead>\n",
       "    <tr style=\"text-align: right;\">\n",
       "      <th></th>\n",
       "      <th>acc</th>\n",
       "      <th>alt</th>\n",
       "      <th>id</th>\n",
       "      <th>lat</th>\n",
       "      <th>lng</th>\n",
       "      <th>ts</th>\n",
       "    </tr>\n",
       "  </thead>\n",
       "  <tbody>\n",
       "    <tr>\n",
       "      <th>0</th>\n",
       "      <td>49.721</td>\n",
       "      <td>35.0</td>\n",
       "      <td>24</td>\n",
       "      <td>60.223832</td>\n",
       "      <td>24.757832</td>\n",
       "      <td>1540884625</td>\n",
       "    </tr>\n",
       "    <tr>\n",
       "      <th>1</th>\n",
       "      <td>49.835</td>\n",
       "      <td>34.0</td>\n",
       "      <td>25</td>\n",
       "      <td>60.223857</td>\n",
       "      <td>24.757789</td>\n",
       "      <td>1540884628</td>\n",
       "    </tr>\n",
       "  </tbody>\n",
       "</table>\n",
       "</div>"
      ],
      "text/plain": [
       "      acc   alt  id        lat        lng          ts\n",
       "0  49.721  35.0  24  60.223832  24.757832  1540884625\n",
       "1  49.835  34.0  25  60.223857  24.757789  1540884628"
      ]
     },
     "execution_count": 77,
     "metadata": {},
     "output_type": "execute_result"
    }
   ],
   "source": [
    "# Test Case: 11-A\n",
    "# Usecase: Change gpsTime to 5 and (config t1)\n",
    "# Desired Output: ER: gps (location) is collected every 5 seconds\n",
    "\n",
    "#load json object\n",
    "with open('./jupyter-data/t1-2.json') as f:\n",
    "    d = json.load(f)\n",
    "\n",
    "df = pd.DataFrame(d['gpsData'])\n",
    "df"
   ]
  },
  {
   "cell_type": "code",
   "execution_count": null,
   "metadata": {},
   "outputs": [],
   "source": []
  },
  {
   "cell_type": "markdown",
   "metadata": {},
   "source": [
    "## Test Case: 11-B"
   ]
  },
  {
   "cell_type": "code",
   "execution_count": 5,
   "metadata": {},
   "outputs": [
    {
     "data": {
      "text/plain": [
       "array([1540884625, 1540884628], dtype=int64)"
      ]
     },
     "execution_count": 5,
     "metadata": {},
     "output_type": "execute_result"
    }
   ],
   "source": [
    "# Test Case: 11-B\n",
    "# Usecase: Change gpsTime to 20 and (config t2)\n",
    "# Desired Output: ER: gps (location) is collected every 20 seconds\n",
    "\n",
    "#load json object\n",
    "with open('./jupyter-data/t1-2.json') as f:\n",
    "    d = json.load(f)\n",
    "\n",
    "df = pd.DataFrame(d['gpsData'])\n",
    "df['ts'].unique()"
   ]
  },
  {
   "cell_type": "markdown",
   "metadata": {},
   "source": [
    "# Test Case: 13-A"
   ]
  },
  {
   "cell_type": "code",
   "execution_count": 3,
   "metadata": {},
   "outputs": [
    {
     "data": {
      "text/html": [
       "<div>\n",
       "<style scoped>\n",
       "    .dataframe tbody tr th:only-of-type {\n",
       "        vertical-align: middle;\n",
       "    }\n",
       "\n",
       "    .dataframe tbody tr th {\n",
       "        vertical-align: top;\n",
       "    }\n",
       "\n",
       "    .dataframe thead th {\n",
       "        text-align: right;\n",
       "    }\n",
       "</style>\n",
       "<table border=\"1\" class=\"dataframe\">\n",
       "  <thead>\n",
       "    <tr style=\"text-align: right;\">\n",
       "      <th></th>\n",
       "      <th>id</th>\n",
       "      <th>x</th>\n",
       "      <th>y</th>\n",
       "      <th>z</th>\n",
       "    </tr>\n",
       "    <tr>\n",
       "      <th>ts</th>\n",
       "      <th></th>\n",
       "      <th></th>\n",
       "      <th></th>\n",
       "      <th></th>\n",
       "    </tr>\n",
       "  </thead>\n",
       "  <tbody>\n",
       "    <tr>\n",
       "      <th>1540884604</th>\n",
       "      <td>1</td>\n",
       "      <td>1</td>\n",
       "      <td>1</td>\n",
       "      <td>1</td>\n",
       "    </tr>\n",
       "    <tr>\n",
       "      <th>1540884606</th>\n",
       "      <td>1</td>\n",
       "      <td>1</td>\n",
       "      <td>1</td>\n",
       "      <td>1</td>\n",
       "    </tr>\n",
       "  </tbody>\n",
       "</table>\n",
       "</div>"
      ],
      "text/plain": [
       "            id  x  y  z\n",
       "ts                     \n",
       "1540884604   1  1  1  1\n",
       "1540884606   1  1  1  1"
      ]
     },
     "execution_count": 3,
     "metadata": {},
     "output_type": "execute_result"
    }
   ],
   "source": [
    "# Test Case: 13-A\n",
    "# Usecase: Change accTime to 5 (config t1)\n",
    "# Desired Output: ER: highest acceleration is collected within 5 seconds intervals \n",
    "\n",
    "#load json object\n",
    "with open('./jupyter-data/t1-1.json') as f:\n",
    "    d = json.load(f)\n",
    "\n",
    "df = pd.DataFrame(d['accData'])\n",
    "y = df.groupby(['ts']).count()\n",
    "y"
   ]
  },
  {
   "cell_type": "markdown",
   "metadata": {},
   "source": [
    "# Test Case: 13-B"
   ]
  },
  {
   "cell_type": "code",
   "execution_count": 4,
   "metadata": {},
   "outputs": [
    {
     "data": {
      "text/html": [
       "<div>\n",
       "<style scoped>\n",
       "    .dataframe tbody tr th:only-of-type {\n",
       "        vertical-align: middle;\n",
       "    }\n",
       "\n",
       "    .dataframe tbody tr th {\n",
       "        vertical-align: top;\n",
       "    }\n",
       "\n",
       "    .dataframe thead th {\n",
       "        text-align: right;\n",
       "    }\n",
       "</style>\n",
       "<table border=\"1\" class=\"dataframe\">\n",
       "  <thead>\n",
       "    <tr style=\"text-align: right;\">\n",
       "      <th></th>\n",
       "      <th>id</th>\n",
       "      <th>x</th>\n",
       "      <th>y</th>\n",
       "      <th>z</th>\n",
       "    </tr>\n",
       "    <tr>\n",
       "      <th>ts</th>\n",
       "      <th></th>\n",
       "      <th></th>\n",
       "      <th></th>\n",
       "      <th></th>\n",
       "    </tr>\n",
       "  </thead>\n",
       "  <tbody>\n",
       "    <tr>\n",
       "      <th>1540884026</th>\n",
       "      <td>1</td>\n",
       "      <td>1</td>\n",
       "      <td>1</td>\n",
       "      <td>1</td>\n",
       "    </tr>\n",
       "  </tbody>\n",
       "</table>\n",
       "</div>"
      ],
      "text/plain": [
       "            id  x  y  z\n",
       "ts                     \n",
       "1540884026   1  1  1  1"
      ]
     },
     "execution_count": 4,
     "metadata": {},
     "output_type": "execute_result"
    }
   ],
   "source": [
    "# Test Case: 13-B\n",
    "# Usecase: Change accTime to 20 (config t2)\n",
    "# Desired Output: ER: highest acceleration is collected within 20 seconds intervals \n",
    "\n",
    "#load json object\n",
    "with open('./jupyter-data/t2-4.json') as f:\n",
    "    d = json.load(f)\n",
    "\n",
    "df = pd.DataFrame(d['accData'])\n",
    "y = df.groupby(['ts']).count()\n",
    "y"
   ]
  },
  {
   "cell_type": "markdown",
   "metadata": {},
   "source": [
    "# Test Case: 14-A"
   ]
  },
  {
   "cell_type": "code",
   "execution_count": 4,
   "metadata": {},
   "outputs": [
    {
     "data": {
      "text/html": [
       "<div>\n",
       "<style scoped>\n",
       "    .dataframe tbody tr th:only-of-type {\n",
       "        vertical-align: middle;\n",
       "    }\n",
       "\n",
       "    .dataframe tbody tr th {\n",
       "        vertical-align: top;\n",
       "    }\n",
       "\n",
       "    .dataframe thead th {\n",
       "        text-align: right;\n",
       "    }\n",
       "</style>\n",
       "<table border=\"1\" class=\"dataframe\">\n",
       "  <thead>\n",
       "    <tr style=\"text-align: right;\">\n",
       "      <th></th>\n",
       "      <th>id</th>\n",
       "      <th>ts</th>\n",
       "      <th>value</th>\n",
       "    </tr>\n",
       "    <tr>\n",
       "      <th>pgn</th>\n",
       "      <th></th>\n",
       "      <th></th>\n",
       "      <th></th>\n",
       "    </tr>\n",
       "  </thead>\n",
       "  <tbody>\n",
       "    <tr>\n",
       "      <th>17FEE501</th>\n",
       "      <td>195</td>\n",
       "      <td>195</td>\n",
       "      <td>195</td>\n",
       "    </tr>\n",
       "    <tr>\n",
       "      <th>17FEE601</th>\n",
       "      <td>195</td>\n",
       "      <td>195</td>\n",
       "      <td>195</td>\n",
       "    </tr>\n",
       "    <tr>\n",
       "      <th>17FEE701</th>\n",
       "      <td>198</td>\n",
       "      <td>198</td>\n",
       "      <td>198</td>\n",
       "    </tr>\n",
       "    <tr>\n",
       "      <th>17FEE801</th>\n",
       "      <td>204</td>\n",
       "      <td>204</td>\n",
       "      <td>204</td>\n",
       "    </tr>\n",
       "    <tr>\n",
       "      <th>17FEE901</th>\n",
       "      <td>208</td>\n",
       "      <td>208</td>\n",
       "      <td>208</td>\n",
       "    </tr>\n",
       "  </tbody>\n",
       "</table>\n",
       "</div>"
      ],
      "text/plain": [
       "           id   ts  value\n",
       "pgn                      \n",
       "17FEE501  195  195    195\n",
       "17FEE601  195  195    195\n",
       "17FEE701  198  198    198\n",
       "17FEE801  204  204    204\n",
       "17FEE901  208  208    208"
      ]
     },
     "execution_count": 4,
     "metadata": {},
     "output_type": "execute_result"
    }
   ],
   "source": [
    "# Test Case: 14-A\n",
    "# Usecase: Change canFreq to 0, canPgnList to  (empty list) (config r1)\n",
    "# Desired Output: ER: all CAN messages are received\n",
    "\n",
    "#load json object\n",
    "with open('./jupyter-data/r1-14.json') as f:\n",
    "    d = json.load(f)\n",
    "\n",
    "df = pd.DataFrame(d['canData'])\n",
    "y = df.groupby(['pgn']).count()\n",
    "y"
   ]
  },
  {
   "cell_type": "markdown",
   "metadata": {},
   "source": [
    "# Test Case: 14-B"
   ]
  },
  {
   "cell_type": "code",
   "execution_count": 7,
   "metadata": {},
   "outputs": [
    {
     "data": {
      "text/html": [
       "<div>\n",
       "<style scoped>\n",
       "    .dataframe tbody tr th:only-of-type {\n",
       "        vertical-align: middle;\n",
       "    }\n",
       "\n",
       "    .dataframe tbody tr th {\n",
       "        vertical-align: top;\n",
       "    }\n",
       "\n",
       "    .dataframe thead th {\n",
       "        text-align: right;\n",
       "    }\n",
       "</style>\n",
       "<table border=\"1\" class=\"dataframe\">\n",
       "  <thead>\n",
       "    <tr style=\"text-align: right;\">\n",
       "      <th></th>\n",
       "      <th>id</th>\n",
       "      <th>ts</th>\n",
       "      <th>value</th>\n",
       "    </tr>\n",
       "    <tr>\n",
       "      <th>pgn</th>\n",
       "      <th></th>\n",
       "      <th></th>\n",
       "      <th></th>\n",
       "    </tr>\n",
       "  </thead>\n",
       "  <tbody>\n",
       "    <tr>\n",
       "      <th>17FEE501</th>\n",
       "      <td>140</td>\n",
       "      <td>140</td>\n",
       "      <td>140</td>\n",
       "    </tr>\n",
       "    <tr>\n",
       "      <th>17FEE601</th>\n",
       "      <td>143</td>\n",
       "      <td>143</td>\n",
       "      <td>143</td>\n",
       "    </tr>\n",
       "  </tbody>\n",
       "</table>\n",
       "</div>"
      ],
      "text/plain": [
       "           id   ts  value\n",
       "pgn                      \n",
       "17FEE501  140  140    140\n",
       "17FEE601  143  143    143"
      ]
     },
     "execution_count": 7,
     "metadata": {},
     "output_type": "execute_result"
    }
   ],
   "source": [
    "# Test Case: 14-B\n",
    "# Usecase: Change canFreq to 0, canPgnList to canPgnList to  \"17FEE501\",\"17FEE601\" (config r2)\n",
    "# Desired Output: ER: all messages where PGN's value has changed, is collected\n",
    "\n",
    "#load json object\n",
    "with open('./jupyter-data/r2-8.json') as f:\n",
    "    d = json.load(f)\n",
    "\n",
    "df = pd.DataFrame(d['canData'])\n",
    "y = df.groupby(['pgn']).count()\n",
    "y"
   ]
  },
  {
   "cell_type": "markdown",
   "metadata": {},
   "source": [
    "# Test Case: 14-C"
   ]
  },
  {
   "cell_type": "code",
   "execution_count": 11,
   "metadata": {},
   "outputs": [
    {
     "data": {
      "text/plain": [
       "pgn\n",
       "17FEE501    [1542111957, 1542111958, 1542111959, 154211196...\n",
       "17FEE601    [1542111957, 1542111958, 1542111959, 154211196...\n",
       "Name: ts, dtype: object"
      ]
     },
     "execution_count": 11,
     "metadata": {},
     "output_type": "execute_result"
    }
   ],
   "source": [
    "# Test Case: 14-C\n",
    "# Usecase: Change canFreq to 2000, canPgnList to canPgnList to  \"17FEE501\",\"17FEE601\" (config r3)\n",
    "# Desired Output: ER: from received CAN data messages, the latest value is selected for listed PGNs, every 2 second\n",
    "\n",
    "#load json object\n",
    "with open('./jupyter-data/r3-10.json') as f:\n",
    "    d = json.load(f)\n",
    "\n",
    "df = pd.DataFrame(d['canData']).groupby('pgn')\n",
    "#df.head(5)\n",
    "df['ts'].unique()"
   ]
  },
  {
   "cell_type": "markdown",
   "metadata": {},
   "source": [
    "# Test Case: 14-D"
   ]
  },
  {
   "cell_type": "code",
   "execution_count": 13,
   "metadata": {},
   "outputs": [
    {
     "data": {
      "text/plain": [
       "pgn\n",
       "17FEE501    [1542112235, 1542112236, 1542112237, 154211223...\n",
       "17FEE601    [1542112235, 1542112236, 1542112237, 154211223...\n",
       "Name: ts, dtype: object"
      ]
     },
     "execution_count": 13,
     "metadata": {},
     "output_type": "execute_result"
    }
   ],
   "source": [
    "# Test Case: 14-D\n",
    "# Usecase: Change canFreq to 5000, canPgnList to canPgnList to  \"17FEE501\",\"17FEE601\" (config r4)\n",
    "# Desired Output: ER: from received CAN data messages, the latest value is selected for listed PGNs, every 5 second\n",
    "\n",
    "#load json object\n",
    "with open('./jupyter-data/r4-7.json') as f:\n",
    "    d = json.load(f)\n",
    "\n",
    "df = pd.DataFrame(d['canData']).groupby('pgn')\n",
    "#df.head(5)\n",
    "df['ts'].unique()"
   ]
  },
  {
   "cell_type": "markdown",
   "metadata": {},
   "source": [
    "## Test Case: 14-E"
   ]
  },
  {
   "cell_type": "code",
   "execution_count": 16,
   "metadata": {},
   "outputs": [
    {
     "data": {
      "text/plain": [
       "pgn\n",
       "17FEE501    [1542113283, 1542113284, 1542113285, 154211328...\n",
       "17FEE601    [1542113283, 1542113284, 1542113285, 154211328...\n",
       "17FEE701    [1542113283, 1542113284, 1542113285, 154211328...\n",
       "17FEE801    [1542113283, 1542113284, 1542113285, 154211328...\n",
       "17FEE901    [1542113283, 1542113284, 1542113285, 154211328...\n",
       "Name: ts, dtype: object"
      ]
     },
     "execution_count": 16,
     "metadata": {},
     "output_type": "execute_result"
    }
   ],
   "source": [
    "# Test Case: 14-E\n",
    "# Usecase: Change canFreq to 5000, canPgnList to canPgnList to  \"\" (config r5)\n",
    "# Desired Output: ER: from received CAN data messages, the latest value is selected for every PGNs, every 5 second\n",
    "\n",
    "#load json object\n",
    "with open('./jupyter-data/r1-A6-1.json') as f:\n",
    "    d = json.load(f)\n",
    "\n",
    "df = pd.DataFrame(d['canData']).groupby('pgn')\n",
    "#df.head(5)\n",
    "df['ts'].unique()"
   ]
  },
  {
   "cell_type": "markdown",
   "metadata": {},
   "source": [
    "# Test Case: 16-A"
   ]
  },
  {
   "cell_type": "code",
   "execution_count": 39,
   "metadata": {},
   "outputs": [
    {
     "data": {
      "text/plain": [
       "<matplotlib.axes._subplots.AxesSubplot at 0x278d02303c8>"
      ]
     },
     "execution_count": 39,
     "metadata": {},
     "output_type": "execute_result"
    },
    {
     "data": {
      "image/png": "[encoded data removed]",
      "text/plain": [
       "<matplotlib.figure.Figure at 0x278d0000358>"
      ]
     },
     "metadata": {},
     "output_type": "display_data"
    }
   ],
   "source": [
    "# Test Case: 16-A\n",
    "# Usecase: Change apFreq to 3 and apCount to 3 (config t1)\n",
    "# Desired Output: ER: max 3 AP devices, having highest SSI are collected every 3 second \n",
    "\n",
    "#load json object\n",
    "with open('./jupyter-data/t1-10.json') as f:\n",
    "    d = json.load(f)\n",
    "\n",
    "df = pd.DataFrame(d['accessPoint'])\n",
    "y = df.groupby(['ts']).count()\n",
    "y.plot(kind='bar')"
   ]
  },
  {
   "cell_type": "markdown",
   "metadata": {},
   "source": [
    "# Test Case: 16-B"
   ]
  },
  {
   "cell_type": "code",
   "execution_count": 26,
   "metadata": {},
   "outputs": [
    {
     "data": {
      "text/html": [
       "<div>\n",
       "<style scoped>\n",
       "    .dataframe tbody tr th:only-of-type {\n",
       "        vertical-align: middle;\n",
       "    }\n",
       "\n",
       "    .dataframe tbody tr th {\n",
       "        vertical-align: top;\n",
       "    }\n",
       "\n",
       "    .dataframe thead th {\n",
       "        text-align: right;\n",
       "    }\n",
       "</style>\n",
       "<table border=\"1\" class=\"dataframe\">\n",
       "  <thead>\n",
       "    <tr style=\"text-align: right;\">\n",
       "      <th></th>\n",
       "      <th>id</th>\n",
       "      <th>mac</th>\n",
       "      <th>rss</th>\n",
       "      <th>ssid</th>\n",
       "    </tr>\n",
       "    <tr>\n",
       "      <th>ts</th>\n",
       "      <th></th>\n",
       "      <th></th>\n",
       "      <th></th>\n",
       "      <th></th>\n",
       "    </tr>\n",
       "  </thead>\n",
       "  <tbody>\n",
       "    <tr>\n",
       "      <th>1541508760</th>\n",
       "      <td>13</td>\n",
       "      <td>13</td>\n",
       "      <td>13</td>\n",
       "      <td>13</td>\n",
       "    </tr>\n",
       "    <tr>\n",
       "      <th>1541508770</th>\n",
       "      <td>13</td>\n",
       "      <td>13</td>\n",
       "      <td>13</td>\n",
       "      <td>13</td>\n",
       "    </tr>\n",
       "    <tr>\n",
       "      <th>1541508780</th>\n",
       "      <td>6</td>\n",
       "      <td>6</td>\n",
       "      <td>6</td>\n",
       "      <td>6</td>\n",
       "    </tr>\n",
       "  </tbody>\n",
       "</table>\n",
       "</div>"
      ],
      "text/plain": [
       "            id  mac  rss  ssid\n",
       "ts                            \n",
       "1541508760  13   13   13    13\n",
       "1541508770  13   13   13    13\n",
       "1541508780   6    6    6     6"
      ]
     },
     "execution_count": 26,
     "metadata": {},
     "output_type": "execute_result"
    }
   ],
   "source": [
    "# Test Case: 16-B\n",
    "# Usecase: Change apFreq to 10 and apCount to 25 (config t2)\n",
    "# Desired Output: ER: max 25 AP devices, having highest SSI are collected every 10 second \n",
    "\n",
    "#load json object\n",
    "with open('./jupyter-data/t2-8.json') as f:\n",
    "    d = json.load(f)\n",
    "\n",
    "df = pd.DataFrame(d['accessPoint'])\n",
    "y = df.groupby(['ts']).count()\n",
    "y"
   ]
  },
  {
   "cell_type": "code",
   "execution_count": null,
   "metadata": {},
   "outputs": [],
   "source": []
  },
  {
   "cell_type": "code",
   "execution_count": null,
   "metadata": {},
   "outputs": [],
   "source": []
  }
 ],
 "metadata": {
  "kernelspec": {
   "display_name": "Python 3",
   "language": "python",
   "name": "python3"
  },
  "language_info": {
   "codemirror_mode": {
    "name": "ipython",
    "version": 3
   },
   "file_extension": ".py",
   "mimetype": "text/x-python",
   "name": "python",
   "nbconvert_exporter": "python",
   "pygments_lexer": "ipython3",
   "version": "3.6.4"
  }
 },
 "nbformat": 4,
 "nbformat_minor": 2
}
